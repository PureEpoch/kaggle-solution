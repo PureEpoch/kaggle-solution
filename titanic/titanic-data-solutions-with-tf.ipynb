{
 "cells": [
  {
   "cell_type": "code",
   "execution_count": 25,
   "metadata": {
    "collapsed": true
   },
   "outputs": [],
   "source": [
    "import pandas as pd\n",
    "import tensorflow as tf\n",
    "import numpy as np\n",
    "\n",
    "from sklearn import preprocessing \n",
    "\n",
    "train_df = pd.read_csv('./input/train.csv')\n",
    "test_df = pd.read_csv('./input/test.csv')"
   ]
  },
  {
   "cell_type": "code",
   "execution_count": 26,
   "metadata": {
    "collapsed": true
   },
   "outputs": [],
   "source": [
    "train_df = train_df.drop(['Ticket', 'Cabin'], axis=1)\n",
    "test_df = test_df.drop(['Ticket', 'Cabin'], axis=1)\n",
    "combine = [train_df, test_df]\n",
    "for dataset in combine:\n",
    "    dataset['Title'] = dataset.Name.str.extract(' ([A-Za-z]+)\\.', expand=False)\n",
    "for dataset in combine:\n",
    "    dataset['Title'] = dataset['Title'].replace(['Lady', 'Countess','Capt', 'Col',\\\n",
    " \t'Don', 'Dr', 'Major', 'Rev', 'Sir', 'Jonkheer', 'Dona'], 'Rare')\n",
    "\n",
    "    dataset['Title'] = dataset['Title'].replace('Mlle', 'Miss')\n",
    "    dataset['Title'] = dataset['Title'].replace('Ms', 'Miss')\n",
    "    dataset['Title'] = dataset['Title'].replace('Mme', 'Mrs')   \n",
    "title_mapping = {\"Mr\": 1, \"Miss\": 2, \"Mrs\": 3, \"Master\": 4, \"Rare\": 5}\n",
    "for dataset in combine:\n",
    "    dataset['Title'] = dataset['Title'].map(title_mapping)\n",
    "    dataset['Title'] = dataset['Title'].fillna(0)\n",
    "train_df = train_df.drop(['Name', 'PassengerId'], axis=1)\n",
    "test_df = test_df.drop(['Name'], axis=1)\n",
    "combine = [train_df, test_df]\n",
    "for dataset in combine:\n",
    "    dataset['Sex'] = dataset['Sex'].map( {'female': 1, 'male': 0} ).astype(int)\n",
    "guess_ages = np.zeros((2,3))\n",
    "for dataset in combine:\n",
    "    for i in range(0, 2):\n",
    "        for j in range(0, 3):\n",
    "            guess_df = dataset[(dataset['Sex'] == i) & \\\n",
    "                                  (dataset['Pclass'] == j+1)]['Age'].dropna()\n",
    "\n",
    "            # age_mean = guess_df.mean()\n",
    "            # age_std = guess_df.std()\n",
    "            # age_guess = rnd.uniform(age_mean - age_std, age_mean + age_std)\n",
    "\n",
    "            age_guess = guess_df.median()\n",
    "\n",
    "            # Convert random age float to nearest .5 age\n",
    "            guess_ages[i,j] = int( age_guess/0.5 + 0.5 ) * 0.5\n",
    "            \n",
    "    for i in range(0, 2):\n",
    "        for j in range(0, 3):\n",
    "            dataset.loc[ (dataset.Age.isnull()) & (dataset.Sex == i) & (dataset.Pclass == j+1),\\\n",
    "                    'Age'] = guess_ages[i,j]\n",
    "\n",
    "    dataset['Age'] = dataset['Age'].astype(int)\n",
    "freq_port = train_df.Embarked.dropna().mode()[0]\n",
    "for dataset in combine:\n",
    "    dataset['Embarked'] = dataset['Embarked'].fillna(freq_port)\n",
    "for dataset in combine:\n",
    "    dataset['Embarked'] = dataset['Embarked'].map( {'S': 0, 'C': 1, 'Q': 2} ).astype(int)    \n",
    "test_df['Fare'].fillna(test_df['Fare'].dropna().median(), inplace=True)\n",
    "train_df['Fare'].fillna(train_df['Fare'].dropna().median(), inplace=True)    "
   ]
  },
  {
   "cell_type": "code",
   "execution_count": 27,
   "metadata": {
    "collapsed": true
   },
   "outputs": [],
   "source": [
    "X_train = train_df\n",
    "Y_train = X_train.pop(\"Survived\")\n",
    "X_test  = test_df.drop(\"PassengerId\", axis=1).copy()"
   ]
  },
  {
   "cell_type": "code",
   "execution_count": 28,
   "metadata": {},
   "outputs": [
    {
     "name": "stderr",
     "output_type": "stream",
     "text": [
      "D:\\Anaconda3\\envs\\tensorflow\\lib\\site-packages\\sklearn\\utils\\validation.py:475: DataConversionWarning: Data with input dtype int64 was converted to float64 by the scale function.\n",
      "  warnings.warn(msg, DataConversionWarning)\n"
     ]
    }
   ],
   "source": [
    "X_TF_train = X_train.as_matrix()\n",
    "Y_TF_train = Y_train.as_matrix()\n",
    "Y_TF_train = np.reshape(Y_TF_train, (-1,1))\n",
    "X_TF_test = X_test.as_matrix()\n",
    "\n",
    "X_TF_N_train = preprocessing.scale(X_TF_train)\n",
    "Y_TF_N_train = preprocessing.scale(Y_TF_train)"
   ]
  },
  {
   "cell_type": "code",
   "execution_count": 29,
   "metadata": {},
   "outputs": [
    {
     "name": "stdout",
     "output_type": "stream",
     "text": [
      "INFO:tensorflow:Using default config.\n",
      "INFO:tensorflow:Using config: {'_task_type': None, '_task_id': 0, '_cluster_spec': <tensorflow.python.training.server_lib.ClusterSpec object at 0x00000000126B5DD8>, '_master': '', '_num_ps_replicas': 0, '_num_worker_replicas': 0, '_environment': 'local', '_is_chief': True, '_evaluation_master': '', '_tf_config': gpu_options {\n",
      "  per_process_gpu_memory_fraction: 1\n",
      "}\n",
      ", '_tf_random_seed': None, '_save_summary_steps': 100, '_save_checkpoints_secs': 600, '_session_config': None, '_save_checkpoints_steps': None, '_keep_checkpoint_max': 5, '_keep_checkpoint_every_n_hours': 10000, '_model_dir': './tmp/titanic_model'}\n",
      "WARNING:tensorflow:From D:\\Anaconda3\\envs\\tensorflow\\lib\\site-packages\\tensorflow\\contrib\\learn\\python\\learn\\estimators\\head.py:625: scalar_summary (from tensorflow.python.ops.logging_ops) is deprecated and will be removed after 2016-11-30.\n",
      "Instructions for updating:\n",
      "Please switch to tf.summary.scalar. Note that tf.summary.scalar uses the node name instead of the tag. This means that TensorFlow will automatically de-duplicate summary names based on the scope they are created in. Also, passing a tensor or list of tags to a scalar summary op is no longer supported.\n",
      "WARNING:tensorflow:Casting <dtype: 'int64'> labels to bool.\n",
      "WARNING:tensorflow:Casting <dtype: 'int64'> labels to bool.\n",
      "INFO:tensorflow:Create CheckpointSaverHook.\n",
      "INFO:tensorflow:Restoring parameters from ./tmp/titanic_model\\model.ckpt-24000\n",
      "INFO:tensorflow:Saving checkpoints for 24001 into ./tmp/titanic_model\\model.ckpt.\n",
      "INFO:tensorflow:loss = 0.205627, step = 24001\n",
      "INFO:tensorflow:global_step/sec: 300.283\n",
      "INFO:tensorflow:loss = 0.212651, step = 24101 (0.331 sec)\n",
      "INFO:tensorflow:global_step/sec: 355.851\n",
      "INFO:tensorflow:loss = 0.268353, step = 24201 (0.281 sec)\n",
      "INFO:tensorflow:global_step/sec: 344.808\n",
      "INFO:tensorflow:loss = 0.269486, step = 24301 (0.290 sec)\n",
      "INFO:tensorflow:global_step/sec: 425.507\n",
      "INFO:tensorflow:loss = 0.180198, step = 24401 (0.236 sec)\n",
      "INFO:tensorflow:global_step/sec: 395.234\n",
      "INFO:tensorflow:loss = 0.164099, step = 24501 (0.254 sec)\n",
      "INFO:tensorflow:global_step/sec: 255.74\n",
      "INFO:tensorflow:loss = 0.264566, step = 24601 (0.392 sec)\n",
      "INFO:tensorflow:global_step/sec: 326.779\n",
      "INFO:tensorflow:loss = 0.219628, step = 24701 (0.303 sec)\n",
      "INFO:tensorflow:global_step/sec: 434.758\n",
      "INFO:tensorflow:loss = 0.21823, step = 24801 (0.232 sec)\n",
      "INFO:tensorflow:global_step/sec: 364.943\n",
      "INFO:tensorflow:loss = 0.157395, step = 24901 (0.273 sec)\n",
      "INFO:tensorflow:global_step/sec: 456.595\n",
      "INFO:tensorflow:loss = 0.210333, step = 25001 (0.218 sec)\n",
      "INFO:tensorflow:global_step/sec: 450.425\n",
      "INFO:tensorflow:loss = 0.257884, step = 25101 (0.222 sec)\n",
      "INFO:tensorflow:global_step/sec: 450.425\n",
      "INFO:tensorflow:loss = 0.173444, step = 25201 (0.222 sec)\n",
      "INFO:tensorflow:global_step/sec: 354.59\n",
      "INFO:tensorflow:loss = 0.281439, step = 25301 (0.290 sec)\n",
      "INFO:tensorflow:global_step/sec: 315.439\n",
      "INFO:tensorflow:loss = 0.259074, step = 25401 (0.309 sec)\n",
      "INFO:tensorflow:global_step/sec: 386.078\n",
      "INFO:tensorflow:loss = 0.236364, step = 25501 (0.260 sec)\n",
      "INFO:tensorflow:global_step/sec: 318.453\n",
      "INFO:tensorflow:loss = 0.147638, step = 25601 (0.323 sec)\n",
      "INFO:tensorflow:global_step/sec: 236.953\n",
      "INFO:tensorflow:loss = 0.183776, step = 25701 (0.412 sec)\n",
      "INFO:tensorflow:global_step/sec: 263.837\n",
      "INFO:tensorflow:loss = 0.206081, step = 25801 (0.383 sec)\n",
      "INFO:tensorflow:global_step/sec: 273.957\n",
      "INFO:tensorflow:loss = 0.217717, step = 25901 (0.384 sec)\n",
      "INFO:tensorflow:Saving checkpoints for 26000 into ./tmp/titanic_model\\model.ckpt.\n",
      "INFO:tensorflow:Loss for final step: 0.268644.\n"
     ]
    },
    {
     "data": {
      "text/plain": [
       "DNNClassifier(params={'head': <tensorflow.contrib.learn.python.learn.estimators.head._BinaryLogisticHead object at 0x00000000126B5710>, 'hidden_units': [64, 32, 8], 'feature_columns': (_NumericColumn(key='x', shape=(8,), default_value=None, dtype=tf.float32, normalizer_fn=None),), 'optimizer': None, 'activation_fn': <function relu at 0x000000000850E048>, 'dropout': None, 'gradient_clip_norm': None, 'embedding_lr_multipliers': None, 'input_layer_min_slice_size': None})"
      ]
     },
     "execution_count": 29,
     "metadata": {},
     "output_type": "execute_result"
    }
   ],
   "source": [
    "feature_columns = [tf.feature_column.numeric_column(\"x\", shape=[8])]\n",
    "\n",
    "estimator = tf.contrib.learn.DNNClassifier(\n",
    "    feature_columns=feature_columns,\n",
    "    hidden_units=[64,32,8],\n",
    "    n_classes=2,\n",
    "    model_dir=\"./tmp/titanic_model\")\n",
    "train_input_fn = tf.estimator.inputs.numpy_input_fn(\n",
    "    x={\"x\":X_TF_train},\n",
    "    y=Y_TF_train,\n",
    "    num_epochs=None,\n",
    "    shuffle=True)\n",
    "\n",
    "estimator.fit(input_fn=train_input_fn, steps=2000)\n"
   ]
  },
  {
   "cell_type": "code",
   "execution_count": 30,
   "metadata": {},
   "outputs": [
    {
     "name": "stdout",
     "output_type": "stream",
     "text": [
      "WARNING:tensorflow:From D:\\Anaconda3\\envs\\tensorflow\\lib\\site-packages\\tensorflow\\contrib\\learn\\python\\learn\\estimators\\head.py:625: scalar_summary (from tensorflow.python.ops.logging_ops) is deprecated and will be removed after 2016-11-30.\n",
      "Instructions for updating:\n",
      "Please switch to tf.summary.scalar. Note that tf.summary.scalar uses the node name instead of the tag. This means that TensorFlow will automatically de-duplicate summary names based on the scope they are created in. Also, passing a tensor or list of tags to a scalar summary op is no longer supported.\n",
      "WARNING:tensorflow:Casting <dtype: 'int64'> labels to bool.\n",
      "WARNING:tensorflow:Casting <dtype: 'int64'> labels to bool.\n",
      "INFO:tensorflow:Starting evaluation at 2017-11-17-08:40:14\n",
      "INFO:tensorflow:Restoring parameters from ./tmp/titanic_model\\model.ckpt-26000\n",
      "INFO:tensorflow:Finished evaluation at 2017-11-17-08:40:16\n",
      "INFO:tensorflow:Saving dict for global step 26000: accuracy = 0.915825, accuracy/baseline_label_mean = 0.383838, accuracy/threshold_0.500000_mean = 0.915825, auc = 0.964478, auc_precision_recall = 0.956915, global_step = 26000, labels/actual_label_mean = 0.383838, labels/prediction_mean = 0.384368, loss = 0.217418, precision/positive_threshold_0.500000_mean = 0.92381, recall/positive_threshold_0.500000_mean = 0.850877\n"
     ]
    }
   ],
   "source": [
    "eval_input_fn = tf.estimator.inputs.numpy_input_fn(\n",
    "    x={\"x\":X_TF_train},\n",
    "    y=Y_TF_train,\n",
    "    num_epochs=1,\n",
    "    shuffle=False)\n",
    "\n",
    "accuracy_score = estimator.evaluate(input_fn=eval_input_fn)"
   ]
  },
  {
   "cell_type": "code",
   "execution_count": 42,
   "metadata": {},
   "outputs": [
    {
     "name": "stdout",
     "output_type": "stream",
     "text": [
      "WARNING:tensorflow:From <ipython-input-42-e7170825735a>:8: calling DNNClassifier.predict_classes (from tensorflow.contrib.learn.python.learn.estimators.dnn) with as_iterable=False is deprecated and will be removed after 2016-09-15.\n",
      "Instructions for updating:\n",
      "The default behavior of predict() is changing. The default value for\n",
      "as_iterable will change to True, and then the flag will be removed\n",
      "altogether. The behavior of this flag is described below.\n",
      "WARNING:tensorflow:From D:\\Anaconda3\\envs\\tensorflow\\lib\\site-packages\\tensorflow\\contrib\\learn\\python\\learn\\estimators\\dnn.py:433: calling BaseEstimator.predict (from tensorflow.contrib.learn.python.learn.estimators.estimator) with as_iterable is deprecated and will be removed after 2016-12-01.\n",
      "Instructions for updating:\n",
      "Estimator is decoupled from Scikit Learn interface by moving into\n",
      "separate class SKCompat. Arguments x, y and batch_size are only\n",
      "available in the SKCompat class, Estimator will only accept input_fn.\n",
      "Example conversion:\n",
      "  est = Estimator(...) -> est = SKCompat(Estimator(...))\n",
      "INFO:tensorflow:Restoring parameters from ./tmp/titanic_model\\model.ckpt-26000\n",
      "418\n"
     ]
    }
   ],
   "source": [
    "tmp_y = np.zeros((418,))\n",
    "test_input_fn = tf.estimator.inputs.numpy_input_fn(\n",
    "    x={\"x\":X_TF_test},\n",
    "    y=tmp_y,\n",
    "    batch_size=418,\n",
    "    num_epochs=1,\n",
    "    shuffle=False)\n",
    "pred = estimator.predict_classes(input_fn=test_input_fn,as_iterable=False)\n",
    "print(pred.size)\n",
    "submission = pd.DataFrame({\n",
    "        \"PassengerId\": test_df[\"PassengerId\"],\n",
    "        \"Survived\": pred\n",
    "    })\n",
    "submission.to_csv('./output/submission.csv', index=False)"
   ]
  },
  {
   "cell_type": "code",
   "execution_count": null,
   "metadata": {
    "collapsed": true
   },
   "outputs": [],
   "source": []
  }
 ],
 "metadata": {
  "kernelspec": {
   "display_name": "Python 3",
   "language": "python",
   "name": "python3"
  },
  "language_info": {
   "codemirror_mode": {
    "name": "ipython",
    "version": 3
   },
   "file_extension": ".py",
   "mimetype": "text/x-python",
   "name": "python",
   "nbconvert_exporter": "python",
   "pygments_lexer": "ipython3",
   "version": "3.6.3"
  }
 },
 "nbformat": 4,
 "nbformat_minor": 2
}
